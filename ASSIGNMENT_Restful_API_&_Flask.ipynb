{
  "cells": [
    {
      "cell_type": "markdown",
      "metadata": {
        "id": "72z6XU7Nt5LJ"
      },
      "source": [
        "#THEORY QUESTION"
      ]
    },
    {
      "cell_type": "markdown",
      "metadata": {
        "id": "xcWAK0eOuBgQ"
      },
      "source": [
        "#QUESTION 1. What is a RESTful API ?\n",
        "\n",
        "A RESTful API is a web service interface that uses standard HTTP methods (GET, POST, PUT, DELETE) to access and manipulate resources (identified by URLs) in a stateless manner—each request contains all the information needed, and responses use standard HTTP status codes.\n",
        "\n"
      ]
    },
    {
      "cell_type": "markdown",
      "metadata": {
        "id": "H4HSx6kOu02Z"
      },
      "source": [
        "#QUESTION 2. Explain the concept of API specification .\n",
        "\n",
        "An API specification is a detailed document or blueprint that defines how an API works—what endpoints are available, what requests it accepts, what responses it returns, and how data should be structured. It helps developers understand how to interact with the API correctly."
      ]
    },
    {
      "cell_type": "markdown",
      "metadata": {
        "id": "7MEhs9XlvIhq"
      },
      "source": [
        "#QUESTION 3. What is Flask, and why is it popular for building APIs ?\n",
        "\n",
        "Flask is a lightweight Python web framework used to build web applications and APIs. It's popular because it's simple, flexible, and easy to use, allowing developers to create APIs quickly with minimal setup.\n",
        "\n"
      ]
    },
    {
      "cell_type": "markdown",
      "metadata": {
        "id": "jQkJKel7vfjs"
      },
      "source": [
        "#QUESTION 4. What is routing in Flask?\n",
        "\n",
        "Routing in Flask maps a URL path to a specific function, so when that URL is accessed, the corresponding function runs and returns a response."
      ]
    },
    {
      "cell_type": "markdown",
      "metadata": {
        "id": "jQC6Z6b2v1Uu"
      },
      "source": [
        "#QUESTION 5. How do you create a simple Flask application ?\n",
        "\n",
        "✅ 1. Install Flask\n",
        "Open your terminal and run:\n",
        "\n",
        "bash\n",
        "Copy\n",
        "Edit\n",
        "pip install flask\n",
        "\n",
        "✅ 2. Create a Python file (e.g., app.py)\n",
        "Write this code:\n",
        "\n",
        "python\n",
        "Copy\n",
        "Edit\n",
        "from flask import Flask\n",
        "\n",
        "app = Flask(__name__)\n",
        "\n",
        "@app.route('/')\n",
        "def home():\n",
        "    return 'Hello, Flask!'\n",
        "\n",
        "if __name__ == '__main__':\n",
        "    app.run(debug=True)\n",
        "\n",
        "✅ 3. Run the app\n",
        "In your terminal:\n",
        "\n",
        "bash\n",
        "Copy\n",
        "Edit\n",
        "python app.py\n",
        "\n",
        "✅ 4. Visit in Browser\n",
        "Open:\n",
        "http://localhost:5000\n",
        "\n",
        "You’ll see:\n",
        "Hello, Flask!\n",
        "\n",
        "This is your first basic Flask web application.\n"
      ]
    },
    {
      "cell_type": "markdown",
      "metadata": {
        "id": "CJv81nw8wzf8"
      },
      "source": [
        "#QUESTION 6. What are HTTP methods used in RESTful APIs?\n",
        "\n",
        "The main HTTP methods used in RESTful APIs are:\n",
        "\n",
        "GET – Retrieve data\n",
        "\n",
        "POST – Create new data\n",
        "\n",
        "PUT – Update existing data\n",
        "\n",
        "DELETE – Remove data\n",
        "\n",
        "PATCH – Partially update data\n"
      ]
    },
    {
      "cell_type": "markdown",
      "metadata": {
        "id": "SBBKcHR6xJ5C"
      },
      "source": [
        "#QUESTION 7 .What is the purpose of the @app.route() decorator in Flask?\n",
        "\n",
        "The @app.route() decorator in Flask defines the URL path for a function, telling Flask which function to run when that route is accessed."
      ]
    },
    {
      "cell_type": "markdown",
      "metadata": {
        "id": "f0nqTXEExzI7"
      },
      "source": [
        "#QUESTION 8. What is the difference between GET and POST HTTP methods?\n",
        "\n",
        "GET is used to retrieve data from the server, with data sent in the URL.\n",
        "\n",
        "POST is used to send or create data, with data sent in the request body."
      ]
    },
    {
      "cell_type": "markdown",
      "metadata": {
        "id": "B5h5VCrByFUd"
      },
      "source": [
        "#QUESTION 9.  How do you handle errors in Flask APIs?\n",
        "\n",
        "In Flask APIs, you handle errors using:\n",
        "\n",
        ". @app.errorhandler() decorator to define custom error responses\n",
        "\n",
        ". abort() function to trigger specific HTTP errors\n",
        "\n"
      ]
    },
    {
      "cell_type": "markdown",
      "metadata": {
        "id": "G1zS4csFyZiz"
      },
      "source": [
        "#QUESTION 10.  How do you connect Flask to a SQL database?\n",
        "\n",
        " To connect Flask to a SQL database, you typically use Flask-SQLAlchemy.\n",
        "\n",
        "1.Install Flask-SQLAlchem\n",
        "\n",
        "pip install flask-sqlalchemy\n",
        "\n",
        "\n",
        "\n",
        "\n",
        "\n",
        "2.Set up in your Flask app\n",
        "\n",
        "python\n",
        "Copy\n",
        "Edit\n",
        "from flask import Flask\n",
        "from flask_sqlalchemy import SQLAlchemy\n",
        "\n",
        "app = Flask(__name__)\n",
        "app.config['SQLALCHEMY_DATABASE_URI'] = 'sqlite:///example.db'\n",
        "db = SQLAlchemy(app)\n",
        "\n",
        "3.Define models and use db.create_all() to create tables.\n",
        "\n",
        "This sets up the database connection and enables ORM-based access.\n",
        "\n",
        "\n",
        "\n"
      ]
    },
    {
      "cell_type": "markdown",
      "metadata": {
        "id": "e83ivezVz613"
      },
      "source": [
        "#QUESTION 11. What is the role of Flask-SQLAlchemy?\n",
        "\n",
        "Flask-SQLAlchemy is an extension that integrates SQL databases with Flask using SQLAlchemy ORM, making it easier to define database models, run queries, and manage the database within a Flask app.\n",
        "\n",
        "\n"
      ]
    },
    {
      "cell_type": "markdown",
      "metadata": {
        "id": "14N3DHJm0Nr4"
      },
      "source": [
        "#QUESTION 12. M What are Flask blueprints, and how are they useful?\n",
        "\n",
        "\n",
        "Flask Blueprints are a way to organize a Flask app into modular, reusable components. They help break the app into smaller parts (like user, auth, admin) for better structure, especially in larger applications."
      ]
    },
    {
      "cell_type": "markdown",
      "metadata": {
        "id": "M53VNcq_05SQ"
      },
      "source": [
        "#QUESTION 13.  What is the purpose of Flask's request object?\n",
        "\n",
        "Flask's request object is used to access data sent by the client, such as form data, JSON, URL parameters, and headers in an incoming HTTP request.\n"
      ]
    },
    {
      "cell_type": "markdown",
      "metadata": {
        "id": "45lREgtz1Q3S"
      },
      "source": [
        "#QUESTION 14. How do you create a RESTful API endpoint using Flask?\n",
        "\n",
        "from flask import Flask, jsonify\n",
        "\n",
        "app = Flask(__name__)\n",
        "\n",
        "@app.route('/api/data', methods=['GET'])\n",
        "def get_data():\n",
        "    return jsonify({'message': 'Hello, API!'})\n",
        "\n",
        "if __name__ == '__main__':\n",
        "    app.run(debug=True)\n"
      ]
    },
    {
      "cell_type": "markdown",
      "metadata": {
        "id": "1xF-tTeb1saN"
      },
      "source": [
        "#QUESTION 15. What is the purpose of Flask's jsonify() function?\n",
        "\n",
        "Flask’s jsonify() function is used to convert Python data (like dictionaries or lists) into JSON format and return it as a proper HTTP response with the correct Content-Type: application/json header."
      ]
    },
    {
      "cell_type": "markdown",
      "metadata": {
        "id": "yVRke-6O16X-"
      },
      "source": [
        "#QUESTION 16.  Explain Flask’s url_for() function .\n",
        "\n",
        "Flask’s url_for() function generates the URL for a given view function name, helping you build links dynamically and avoid hardcoding URLs.\n",
        "\n",
        "\n",
        "\n",
        "\n"
      ]
    },
    {
      "cell_type": "markdown",
      "metadata": {
        "id": "DkjiscsU2NCw"
      },
      "source": [
        "#QUESTION 17. How does Flask handle static files (CSS, JavaScript, etc.)\n",
        "\n",
        "Flask automatically serves static files from the static folder in your project directory. You can access them in templates using url_for('static', filename='path/to/file').\n"
      ]
    },
    {
      "cell_type": "markdown",
      "metadata": {
        "id": "A_fF_wiy2iL-"
      },
      "source": [
        "#QUESTION 18. What is an API specification, and how does it help in building a Flask API.\n",
        "\n",
        "An API specification defines how an API should behave—its endpoints, methods, request/response formats, etc. It helps in building a Flask API by providing a clear blueprint, ensuring consistency, easier collaboration, and smoother documentation and testing."
      ]
    },
    {
      "cell_type": "markdown",
      "metadata": {
        "id": "TiUCmzHP2ylL"
      },
      "source": [
        "#QUESTION 19. What are HTTP status codes, and why are they important in a Flask API?\n",
        "\n",
        "HTTP status codes are 3-digit numbers returned in responses to indicate the result of a request (e.g., 200 for success, 404 for not found, 500 for server error). They are important in Flask APIs to clearly communicate the outcome of API calls to clients.\n"
      ]
    },
    {
      "cell_type": "markdown",
      "metadata": {
        "id": "E1QZlcl_3LLI"
      },
      "source": [
        "#QUESTION 20. How do you handle POST requests in Flask?\n",
        "\n",
        "To handle POST requests in Flask:\n",
        "\n",
        ".Import and use request from flask.\n",
        "\n",
        ".Define a route with methods=['POST'].\n",
        "\n",
        "..Access data with request.form, request.json, or request.data."
      ]
    },
    {
      "cell_type": "markdown",
      "metadata": {
        "id": "vu4T9kp63n0F"
      },
      "source": [
        "#QUESTION 21. How would you secure a Flask API?\n",
        "\n",
        "To secure a Flask API:\n",
        "\n",
        "1.Use HTTPS – Encrypt data in transit.\n",
        "\n",
        "2.Authentication – Implement token-based auth (e.g., JWT).\n",
        "\n",
        "3.Authorization – Restrict access to resources by user roles.\n",
        "\n",
        "4.Input Validation – Sanitize and validate all user input.\n",
        "\n",
        "5.Rate Limiting – Prevent abuse with tools like Flask-Limiter.\n",
        "\n",
        "6.Error Handling – Avoid exposing internal errors.\n",
        "\n",
        "7.CORS – Use Flask-CORS to control cross-origin access.\n",
        "\n",
        "8.Environment Variables – Keep secrets out of code.\n",
        "\n",
        "\n",
        "\n",
        "\n",
        "\n",
        "\n",
        "\n",
        "\n",
        "\n",
        "Ask ChatGPT\n"
      ]
    },
    {
      "cell_type": "markdown",
      "metadata": {
        "id": "_2cnUAys4E-0"
      },
      "source": [
        "#QUESTION 22.  What is the significance of the Flask-RESTful extension?\n",
        "\n",
        "Flask-RESTful simplifies building REST APIs in Flask by:\n",
        "\n",
        "1.Providing resource-based routing using classes.\n",
        "\n",
        "2.Handling request parsing and input validation easily.\n",
        "\n",
        "3.Offering built-in support for HTTP methods (GET, POST, etc.).\n",
        "\n",
        "4.Making code cleaner, modular, and more organized."
      ]
    },
    {
      "cell_type": "markdown",
      "metadata": {
        "id": "naaFGyAS4ebq"
      },
      "source": [
        "#QUESTION 23. What is the role of Flask’s session object?\n",
        "\n",
        "\n",
        "Flask’s session object is used to store data (like user information) across requests for a specific user. It helps maintain user-specific data between different pages, using secure cookies.\n",
        "\n",
        "\n",
        "\n",
        "\n",
        "\n",
        "\n",
        "\n",
        "\n",
        "\n",
        "\n"
      ]
    },
    {
      "cell_type": "markdown",
      "metadata": {
        "id": "5Dj5sJQ84zZN"
      },
      "source": [
        "#PRACTICAL QUESTIONS#"
      ]
    },
    {
      "cell_type": "code",
      "execution_count": null,
      "metadata": {
        "colab": {
          "base_uri": "https://localhost:8080/"
        },
        "id": "BxndQ3o86Ki4",
        "outputId": "1a077311-9d84-4d86-c57d-8adacadfb8e3"
      },
      "outputs": [
        {
          "name": "stdout",
          "output_type": "stream",
          "text": [
            " * Serving Flask app '__main__'\n",
            " * Debug mode: on\n"
          ]
        },
        {
          "name": "stderr",
          "output_type": "stream",
          "text": [
            "INFO:werkzeug:\u001b[31m\u001b[1mWARNING: This is a development server. Do not use it in a production deployment. Use a production WSGI server instead.\u001b[0m\n",
            " * Running on http://127.0.0.1:5000\n",
            "INFO:werkzeug:\u001b[33mPress CTRL+C to quit\u001b[0m\n",
            "INFO:werkzeug: * Restarting with stat\n"
          ]
        }
      ],
      "source": [
        "#QUESTION 1.How do you create a basic Flask application?\n",
        "\n",
        "from flask import Flask\n",
        "\n",
        "app = Flask(__name__)\n",
        "\n",
        "@app.route('/')\n",
        "def home():\n",
        "    return \"Welcome to my basic Flask app!\"\n",
        "\n",
        "if __name__ == '__main__':\n",
        "    app.run(debug=True)\n"
      ]
    },
    {
      "cell_type": "code",
      "execution_count": null,
      "metadata": {
        "id": "_udOEJDU5coz"
      },
      "outputs": [],
      "source": [
        "#QUESTION 2. How do you serve static files like images or CSS in Flask?\n",
        "\n",
        "#Create a folder named static in your project directory.\n",
        "\n",
        "#Put your static files (like images, CSS, JS) inside it.\n",
        "\n",
        "your_project/\n",
        "│\n",
        "├── app.py\n",
        "└── static/\n",
        "    ├── style.css\n",
        "    └── logo.png\n"
      ]
    },
    {
      "cell_type": "code",
      "source": [
        "#QUESTION 3.  How do you define different routes with different HTTP methods in Flask?\n",
        "from flask import Flask, request\n",
        "\n",
        "app = Flask(__name__)\n",
        "\n",
        "@app.route('/submit', methods=['GET', 'POST'])\n",
        "def submit():\n",
        "    if request.method == 'POST':\n",
        "        return \"Form submitted!\"\n",
        "    return \"Submit form\"\n"
      ],
      "metadata": {
        "id": "2XmqOaPHIDMh"
      },
      "execution_count": null,
      "outputs": []
    },
    {
      "cell_type": "code",
      "source": [
        "#QUESTION 4.  How do you render HTML templates in Flask?\n",
        "\n",
        "from flask import Flask, render_template\n",
        "\n",
        "app = Flask(__name__)\n",
        "\n",
        "@app.route('/')\n",
        "def home():\n",
        "    return render_template('index.html', name='John')\n",
        "\n"
      ],
      "metadata": {
        "id": "218Rw0lRIP63"
      },
      "execution_count": null,
      "outputs": []
    },
    {
      "cell_type": "code",
      "source": [
        "#QUESTION 5. How can you generate URLs for routes in Flask using url_for?\n",
        "\n",
        "@app.route('/user/<username>')\n",
        "def profile(username):\n",
        "    return f\"Hello, {username}!\"\n",
        "You can generate the URL for this route using:\n",
        "\n",
        "python\n",
        "Copy\n",
        "Edit\n",
        "url_for('profile', username='john')\n",
        "# Output: '/user/john'"
      ],
      "metadata": {
        "id": "IVAvPnMMC7ET"
      },
      "execution_count": null,
      "outputs": []
    },
    {
      "cell_type": "code",
      "source": [
        "#QUESTION 6. How do you handle forms in Flask?\n",
        "\n",
        "from flask import request\n",
        "\n",
        "@app.route('/submit', methods=['GET', 'POST'])\n",
        "def submit():\n",
        "    if request.method == 'POST':\n",
        "        username = request.form['username']\n",
        "        return f\"Hello, {username}!\"\n",
        "    return render_template('form.html')\n"
      ],
      "metadata": {
        "id": "IY_7Z2OPDpvl"
      },
      "execution_count": null,
      "outputs": []
    },
    {
      "cell_type": "code",
      "source": [
        "#QUESTION 7. How can you validate form data in Flask?\n",
        "\n",
        "✅ 1. Manual Validation (Basic)\n",
        "Use request.form and add custom checks.\n",
        "\n",
        "python\n",
        "Copy\n",
        "Edit\n",
        "from flask import request, render_template\n",
        "\n",
        "@app.route('/submit', methods=['POST'])\n",
        "def submit():\n",
        "    username = request.form.get('username')\n",
        "    if not username:\n",
        "        return \"Username is required\", 400\n",
        "    return f\"Welcome, {username}\"\n",
        "✅ 2. Using Flask-WTF (Recommended for complex forms)\n",
        "Flask-WTF integrates WTForms for validation and CSRF protection.\n",
        "\n",
        "python\n",
        "Copy\n",
        "Edit\n",
        "from flask_wtf import FlaskForm\n",
        "from wtforms import StringField, SubmitField\n",
        "from wtforms.validators import DataRequired\n",
        "\n",
        "class MyForm(FlaskForm):\n",
        "    username = StringField('Username', validators=[DataRequired()])\n",
        "    submit = SubmitField('Submit')\n",
        "python\n",
        "Copy\n",
        "Edit\n",
        "@app.route('/submit', methods=['GET', 'POST'])\n",
        "def submit():\n",
        "    form = MyForm()\n",
        "    if form.validate_on_submit():\n",
        "        return f\"Welcome, {form.username.data}\"\n",
        "    return render_template('form.html', form=form)\n"
      ],
      "metadata": {
        "id": "Cw5EPKDuD71G"
      },
      "execution_count": null,
      "outputs": []
    },
    {
      "cell_type": "code",
      "source": [
        "#QUESTION 8. How do you manage sessions in Flask?\n",
        "\n",
        "Import and set secret k\n",
        "Copy\n",
        "Edit\n",
        "from flask import Flask, session\n",
        "\n",
        "app = Flask(__name__)\n",
        "app.secret_key = 'your_secret_key'  # Needed to encrypt session data\n",
        "\n",
        "2.Set session data:\n",
        "\n",
        "\n",
        "Copy\n",
        "Edit\n",
        "session['username'] = 'john'\n",
        "\n",
        "3.Access session data:\n",
        "\n",
        "\n",
        "Copy\n",
        "Edit\n",
        "user = session.get('username')"
      ],
      "metadata": {
        "id": "CmqUzRNjER_5"
      },
      "execution_count": null,
      "outputs": []
    },
    {
      "cell_type": "code",
      "source": [
        "#QUESTION 9. How do you redirect to a different route in Flask?\n",
        "\n",
        "from flask import redirect, url_for\n",
        "\n",
        "@app.route('/login')\n",
        "def login():\n",
        "    return redirect(url_for('dashboard'))\n",
        "\n",
        "@app.route('/dashboard')\n",
        "def dashboard():\n",
        "    return \"Welcome to your dashboard!\"\n"
      ],
      "metadata": {
        "id": "KLRmN7UYFLNb"
      },
      "execution_count": null,
      "outputs": []
    },
    {
      "cell_type": "code",
      "source": [
        "#QUESTION 10. How do you handle errors in Flask (e.g., 404)?\n",
        "\n",
        "@app.errorhandler(404)\n",
        "def page_not_found(e):\n",
        "    return \"Page not found!\", 404\n",
        "\n"
      ],
      "metadata": {
        "id": "ttDda53DFj7V"
      },
      "execution_count": null,
      "outputs": []
    },
    {
      "cell_type": "code",
      "source": [
        "#QUESTION 11. How do you structure a Flask app using Blueprints?\n",
        "\n",
        "from flask import Blueprint\n",
        "\n",
        "user_bp = Blueprint('user', __name__)\n",
        "\n",
        "@user_bp.route('/profile')\n",
        "def profile():\n",
        "    return \"User Profile\"\n",
        "\n",
        "from flask import Flask\n",
        "from user import user_bp  # import your blueprint\n",
        "\n",
        "app = Flask(__name__)\n",
        "app.register_blueprint(user_bp, url_prefix='/user')\n"
      ],
      "metadata": {
        "id": "TUbJ9WjnF002"
      },
      "execution_count": null,
      "outputs": []
    },
    {
      "cell_type": "code",
      "source": [
        "#QUESTION 12. How do you define a custom Jinja filter in Flask?\n",
        "\n",
        "from flask import Flask\n",
        "\n",
        "app = Flask(__name__)\n",
        "\n",
        "@app.template_filter('reverse')\n",
        "def reverse_string(s):\n",
        "    return s[::-1]\n",
        "\n"
      ],
      "metadata": {
        "id": "YgcsbyNJGK6l"
      },
      "execution_count": null,
      "outputs": []
    },
    {
      "cell_type": "code",
      "source": [
        "#QUESTION 13. How can you redirect with query parameters in Flask?\n",
        "\n",
        "from flask import Flask, redirect, url_for, request\n",
        "\n",
        "app = Flask(__name__)\n",
        "\n",
        "@app.route('/go')\n",
        "def go():\n",
        "    return redirect(url_for('result', name='John', age=25))\n",
        "\n",
        "@app.route('/result')\n",
        "def result():\n",
        "    name = request.args.get('name')\n",
        "    age = request.args.get('age')\n",
        "    return f\"Name: {name}, Age: {age}\"\n"
      ],
      "metadata": {
        "id": "iR-B5TxBGgyr"
      },
      "execution_count": null,
      "outputs": []
    },
    {
      "cell_type": "code",
      "source": [
        "#QUESTION 14.How do you return JSON responses in Flask?\n",
        "\n",
        "from flask import Flask, jsonify\n",
        "\n",
        "app = Flask(__name__)\n",
        "\n",
        "@app.route('/data')\n",
        "def data():\n",
        "    return jsonify(name=\"John\", age=25)\n"
      ],
      "metadata": {
        "id": "txl18bIFG6f3"
      },
      "execution_count": null,
      "outputs": []
    },
    {
      "cell_type": "code",
      "source": [
        "#QUESTION  15.  How do you capture URL parameters in Flask?\n",
        "\n",
        "@app.route('/user/<username>')\n",
        "def show_user(username):\n",
        "    return f\"Hello, {username}!\"\n"
      ],
      "metadata": {
        "id": "RlzKTTKwHTUW"
      },
      "execution_count": null,
      "outputs": []
    },
    {
      "cell_type": "markdown",
      "metadata": {
        "id": "OeFV0Ad2zU_f"
      },
      "source": []
    }
  ],
  "metadata": {
    "colab": {
      "provenance": []
    },
    "kernelspec": {
      "display_name": "Python 3",
      "name": "python3"
    },
    "language_info": {
      "name": "python"
    }
  },
  "nbformat": 4,
  "nbformat_minor": 0
}